{
 "cells": [
  {
   "cell_type": "markdown",
   "metadata": {},
   "source": [
    "### Create a function that uses Numpy to output the mean, variance, and standard deviation of the rows, columns, and elements in a 3 x 3 matrix."
   ]
  },
  {
   "cell_type": "code",
   "execution_count": 4,
   "metadata": {},
   "outputs": [
    {
     "data": {
      "text/plain": [
       "{'mean': [array([3., 4., 5.]), array([1., 4., 7.]), 4.0],\n",
       " 'variance': [array([6., 6., 6.]),\n",
       "  array([0.66666667, 0.66666667, 0.66666667]),\n",
       "  6.666666666666667],\n",
       " 'standard deviation': [array([2.44948974, 2.44948974, 2.44948974]),\n",
       "  array([0.81649658, 0.81649658, 0.81649658]),\n",
       "  2.581988897471611],\n",
       " 'max': [array([6, 7, 8]), array([2, 5, 8]), 0.0],\n",
       " 'min': [array([0, 1, 2]), array([0, 3, 6]), 8.0],\n",
       " 'sum': [array([ 9, 12, 15]), array([ 3, 12, 21]), 36.0]}"
      ]
     },
     "execution_count": 4,
     "metadata": {},
     "output_type": "execute_result"
    }
   ],
   "source": [
    "import numpy as np\n",
    "\n",
    "# function calculate is created, it has 1 argument list.\n",
    "\n",
    "def calculate(list):\n",
    "    arr = np.array(list)   # convert list to array and save it in a var named arr\n",
    "    arr.shape = (3,3)      # array shape should be 3 rows 3 cols\n",
    "    size = len(arr)        # size is calculated\n",
    "    \n",
    "   # .tolist() converts index to list\n",
    "    \n",
    "    if size>9:            # if condition\n",
    "        return 'Value Error!'\n",
    "        \n",
    "        \n",
    "    else:\n",
    "        mean_1 = np.mean(arr, axis = 0)   # mean of arr row wise\n",
    "        mean_2 = np.mean(arr, axis = 1)   # mean of arr col wise\n",
    "        me_flattened = np.mean(arr)       # simple mean of arr\n",
    "        \n",
    "        var_1  = np.var(arr, axis = 0)    # var of arr row wise\n",
    "        var_2  = np.var(arr, axis = 1)    # var of arr col wise\n",
    "        va_flattened = np.var(arr).mean() # simple var of arr \n",
    "        \n",
    "        std_1  = np.std(arr, axis = 0)    # std of arr row wise\n",
    "        std_2  = np.std(arr, axis = 1)    # std of arr col wise\n",
    "        st_flattened = np.std(arr).mean() # simple std of arr\n",
    "        \n",
    "        Min_1 = np.min(arr, axis = 0)       # min of arr row wise\n",
    "        Min_2 = np.min(arr, axis = 1)       # min of arr col wise\n",
    "        mi_flattened = np.min(arr).mean()   # simple min of arr\n",
    "        \n",
    "        Max_1 = np.max(arr, axis = 0)       # max of arr row wise\n",
    "        Max_2 = np.max(arr, axis = 1)       # max of arr col wise\n",
    "        mx_flattened = np.max(arr).mean()   # simple max of arr\n",
    "        \n",
    "        Sum_1 = np.sum(arr, axis = 0)       # sum of arr row wise\n",
    "        Sum_2 = np.sum(arr, axis = 1)       # sum of arr col wise\n",
    "        su_flattened = np.sum(arr).mean()   # simple sum of arr\n",
    "        \n",
    "        return {                                     # returning dictionary row wise, col wise, and general wise\n",
    "                  'mean': [mean_1, mean_2, me_flattened],\n",
    "                  'variance': [var_1, var_2, va_flattened],\n",
    "                  'standard deviation': [std_1, std_2, st_flattened],\n",
    "                  'max': [Max_1, Max_2, mi_flattened],\n",
    "                  'min': [Min_1, Min_2, mx_flattened],\n",
    "                  'sum': [Sum_1, Sum_2, su_flattened]\n",
    "                }\n",
    "\n",
    "# list is being passed in calculate function\n",
    "\n",
    "calculate([0, 1, 2, 3, 4, 5, 6, 7, 8])"
   ]
  },
  {
   "cell_type": "code",
   "execution_count": 5,
   "metadata": {},
   "outputs": [
    {
     "name": "stdout",
     "output_type": "stream",
     "text": [
      "[3.0, 4.0, 5.0]\n",
      "[1.0, 4.0, 7.0]\n",
      "4.0\n",
      "[6.0, 6.0, 6.0]\n",
      "[0.6666666666666666, 0.6666666666666666, 0.6666666666666666]\n",
      "6.666666666666667\n",
      "[2.449489742783178, 2.449489742783178, 2.449489742783178]\n",
      "[0.816496580927726, 0.816496580927726, 0.816496580927726]\n",
      "2.581988897471611\n",
      "[0, 1, 2]\n",
      "[0, 3, 6]\n",
      "0.0\n",
      "[6, 7, 8]\n",
      "[2, 5, 8]\n",
      "8.0\n",
      "[9, 12, 15]\n",
      "[3, 12, 21]\n",
      "36.0\n"
     ]
    }
   ],
   "source": [
    "arr = np.array([0, 1, 2, 3, 4, 5, 6, 7, 8])\n",
    "arr.shape = (3,3)\n",
    "\n",
    "print(np.mean(arr, axis = 0).tolist())\n",
    "print(np.mean(arr, axis = 1).tolist())\n",
    "print(np.mean(arr).tolist())\n",
    "print(np.var(arr, axis = 0).tolist())\n",
    "print(np.var(arr, axis = 1).tolist())\n",
    "print(np.var(arr).mean().tolist())\n",
    "print(np.std(arr, axis = 0).tolist())\n",
    "print(np.std(arr, axis = 1).tolist())\n",
    "print(np.std(arr).mean().tolist())\n",
    "print(np.min(arr, axis = 0).tolist())\n",
    "print(np.min(arr, axis = 1).tolist())\n",
    "print(np.min(arr).mean().tolist())\n",
    "print(np.max(arr, axis = 0).tolist())\n",
    "print(np.max(arr, axis = 1).tolist())\n",
    "print(np.max(arr).mean().tolist())\n",
    "print(np.sum(arr, axis = 0).tolist())\n",
    "print(np.sum(arr, axis = 1).tolist())\n",
    "print(np.sum(arr).mean().tolist())"
   ]
  },
  {
   "cell_type": "code",
   "execution_count": 3,
   "metadata": {},
   "outputs": [],
   "source": [
    "# as you can see it is printed as list per each printed result"
   ]
  }
 ],
 "metadata": {
  "kernelspec": {
   "display_name": "Python 3",
   "language": "python",
   "name": "python3"
  },
  "language_info": {
   "codemirror_mode": {
    "name": "ipython",
    "version": 3
   },
   "file_extension": ".py",
   "mimetype": "text/x-python",
   "name": "python",
   "nbconvert_exporter": "python",
   "pygments_lexer": "ipython3",
   "version": "3.8.5"
  }
 },
 "nbformat": 4,
 "nbformat_minor": 4
}
